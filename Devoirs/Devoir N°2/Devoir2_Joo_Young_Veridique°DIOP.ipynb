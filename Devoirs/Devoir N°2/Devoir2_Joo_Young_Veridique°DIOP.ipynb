{
 "cells": [
  {
   "cell_type": "markdown",
   "metadata": {
    "id": "G7TJrjnm5SVv"
   },
   "source": [
    "# TP2 Statistiques Agricoles\n"
   ]
  },
  {
   "cell_type": "markdown",
   "metadata": {},
   "source": [
    "## Commençons par changer la répertoire de Travail\n"
   ]
  },
  {
   "cell_type": "code",
   "execution_count": 1,
   "metadata": {},
   "outputs": [
    {
     "name": "stdout",
     "output_type": "stream",
     "text": [
      "C:\\Users\\Nora\\Desktop\\Isep2\\Semestre_2\\stat agr\\td2\n"
     ]
    }
   ],
   "source": [
    "# Changement de répertoire de travail \n",
    "Nouveau_répertoire = 'C:\\\\Users\\\\Nora\\\\Desktop\\\\Isep2\\\\Semestre_2\\\\stat agr\\\\td2'\n",
    "print(Nouveau_répertoire)\n"
   ]
  },
  {
   "cell_type": "markdown",
   "metadata": {},
   "source": [
    "## Importons les packages necessaires"
   ]
  },
  {
   "cell_type": "code",
   "execution_count": 2,
   "metadata": {},
   "outputs": [],
   "source": [
    "import pandas as pd\n",
    "import numpy as np\n",
    "import matplotlib.pyplot as plt"
   ]
  },
  {
   "cell_type": "markdown",
   "metadata": {
    "id": "yRL_YMUPB8uw",
    "jp-MarkdownHeadingCollapsed": true
   },
   "source": [
    "## Observation de la variable"
   ]
  },
  {
   "cell_type": "code",
   "execution_count": 3,
   "metadata": {
    "colab": {
     "base_uri": "https://localhost:8080/"
    },
    "executionInfo": {
     "elapsed": 4251,
     "status": "ok",
     "timestamp": 1745086381525,
     "user": {
      "displayName": "Leslye Nkwa",
      "userId": "08123426273878723675"
     },
     "user_tz": 0
    },
    "id": "EvVq8RVmBDz0",
    "outputId": "945fbce3-9a5c-4873-bb12-066a8de6cdfd"
   },
   "outputs": [
    {
     "data": {
      "text/html": [
       "<div>\n",
       "<style scoped>\n",
       "    .dataframe tbody tr th:only-of-type {\n",
       "        vertical-align: middle;\n",
       "    }\n",
       "\n",
       "    .dataframe tbody tr th {\n",
       "        vertical-align: top;\n",
       "    }\n",
       "\n",
       "    .dataframe thead th {\n",
       "        text-align: right;\n",
       "    }\n",
       "</style>\n",
       "<table border=\"1\" class=\"dataframe\">\n",
       "  <thead>\n",
       "    <tr style=\"text-align: right;\">\n",
       "      <th></th>\n",
       "      <th>ID</th>\n",
       "      <th>zone</th>\n",
       "      <th>commune</th>\n",
       "      <th>comcode</th>\n",
       "      <th>cropname</th>\n",
       "      <th>cprod</th>\n",
       "      <th>cqsold</th>\n",
       "      <th>cpg</th>\n",
       "      <th>cgift</th>\n",
       "      <th>cland</th>\n",
       "      <th>...</th>\n",
       "      <th>fertexp</th>\n",
       "      <th>mean_price</th>\n",
       "      <th>sum_cprod</th>\n",
       "      <th>sum_area</th>\n",
       "      <th>rendement_spec</th>\n",
       "      <th>autcons</th>\n",
       "      <th>autcons_spec</th>\n",
       "      <th>taux_autocons</th>\n",
       "      <th>sum_sup</th>\n",
       "      <th>part_sup</th>\n",
       "    </tr>\n",
       "  </thead>\n",
       "  <tbody>\n",
       "    <tr>\n",
       "      <th>0</th>\n",
       "      <td>198</td>\n",
       "      <td>Diourbel-Fatick</td>\n",
       "      <td>Diouroup</td>\n",
       "      <td>4</td>\n",
       "      <td>Mil</td>\n",
       "      <td>820.0</td>\n",
       "      <td>0</td>\n",
       "      <td>300.0</td>\n",
       "      <td>70</td>\n",
       "      <td>6.0</td>\n",
       "      <td>...</td>\n",
       "      <td>0</td>\n",
       "      <td>357.14285</td>\n",
       "      <td>503508.0</td>\n",
       "      <td>1235.8121</td>\n",
       "      <td>407.43085</td>\n",
       "      <td>750.0</td>\n",
       "      <td>427525.0</td>\n",
       "      <td>84.909279</td>\n",
       "      <td>3034.0105</td>\n",
       "      <td>40.731968</td>\n",
       "    </tr>\n",
       "    <tr>\n",
       "      <th>1</th>\n",
       "      <td>149</td>\n",
       "      <td>Diourbel-Fatick</td>\n",
       "      <td>Diouroup</td>\n",
       "      <td>4</td>\n",
       "      <td>Mil</td>\n",
       "      <td>500.0</td>\n",
       "      <td>0</td>\n",
       "      <td>300.0</td>\n",
       "      <td>160</td>\n",
       "      <td>3.0</td>\n",
       "      <td>...</td>\n",
       "      <td>30000</td>\n",
       "      <td>357.14285</td>\n",
       "      <td>503508.0</td>\n",
       "      <td>1235.8121</td>\n",
       "      <td>407.43085</td>\n",
       "      <td>340.0</td>\n",
       "      <td>427525.0</td>\n",
       "      <td>84.909279</td>\n",
       "      <td>3034.0105</td>\n",
       "      <td>40.731968</td>\n",
       "    </tr>\n",
       "    <tr>\n",
       "      <th>2</th>\n",
       "      <td>146</td>\n",
       "      <td>Diourbel-Fatick</td>\n",
       "      <td>Diouroup</td>\n",
       "      <td>4</td>\n",
       "      <td>Mil</td>\n",
       "      <td>450.0</td>\n",
       "      <td>0</td>\n",
       "      <td>250.0</td>\n",
       "      <td>100</td>\n",
       "      <td>0.5</td>\n",
       "      <td>...</td>\n",
       "      <td>7000</td>\n",
       "      <td>357.14285</td>\n",
       "      <td>503508.0</td>\n",
       "      <td>1235.8121</td>\n",
       "      <td>407.43085</td>\n",
       "      <td>350.0</td>\n",
       "      <td>427525.0</td>\n",
       "      <td>84.909279</td>\n",
       "      <td>3034.0105</td>\n",
       "      <td>40.731968</td>\n",
       "    </tr>\n",
       "    <tr>\n",
       "      <th>3</th>\n",
       "      <td>196</td>\n",
       "      <td>Diourbel-Fatick</td>\n",
       "      <td>Diouroup</td>\n",
       "      <td>4</td>\n",
       "      <td>Mil</td>\n",
       "      <td>1090.0</td>\n",
       "      <td>0</td>\n",
       "      <td>300.0</td>\n",
       "      <td>90</td>\n",
       "      <td>4.5</td>\n",
       "      <td>...</td>\n",
       "      <td>0</td>\n",
       "      <td>357.14285</td>\n",
       "      <td>503508.0</td>\n",
       "      <td>1235.8121</td>\n",
       "      <td>407.43085</td>\n",
       "      <td>1000.0</td>\n",
       "      <td>427525.0</td>\n",
       "      <td>84.909279</td>\n",
       "      <td>3034.0105</td>\n",
       "      <td>40.731968</td>\n",
       "    </tr>\n",
       "    <tr>\n",
       "      <th>4</th>\n",
       "      <td>236</td>\n",
       "      <td>Diourbel-Fatick</td>\n",
       "      <td>Diouroup</td>\n",
       "      <td>4</td>\n",
       "      <td>Mil</td>\n",
       "      <td>500.0</td>\n",
       "      <td>0</td>\n",
       "      <td>300.0</td>\n",
       "      <td>100</td>\n",
       "      <td>2.0</td>\n",
       "      <td>...</td>\n",
       "      <td>15000</td>\n",
       "      <td>357.14285</td>\n",
       "      <td>503508.0</td>\n",
       "      <td>1235.8121</td>\n",
       "      <td>407.43085</td>\n",
       "      <td>400.0</td>\n",
       "      <td>427525.0</td>\n",
       "      <td>84.909279</td>\n",
       "      <td>3034.0105</td>\n",
       "      <td>40.731968</td>\n",
       "    </tr>\n",
       "  </tbody>\n",
       "</table>\n",
       "<p>5 rows × 36 columns</p>\n",
       "</div>"
      ],
      "text/plain": [
       "    ID             zone   commune  comcode cropname   cprod  cqsold    cpg  \\\n",
       "0  198  Diourbel-Fatick  Diouroup        4      Mil   820.0       0  300.0   \n",
       "1  149  Diourbel-Fatick  Diouroup        4      Mil   500.0       0  300.0   \n",
       "2  146  Diourbel-Fatick  Diouroup        4      Mil   450.0       0  250.0   \n",
       "3  196  Diourbel-Fatick  Diouroup        4      Mil  1090.0       0  300.0   \n",
       "4  236  Diourbel-Fatick  Diouroup        4      Mil   500.0       0  300.0   \n",
       "\n",
       "   cgift  cland  ...  fertexp  mean_price  sum_cprod   sum_area  \\\n",
       "0     70    6.0  ...        0   357.14285   503508.0  1235.8121   \n",
       "1    160    3.0  ...    30000   357.14285   503508.0  1235.8121   \n",
       "2    100    0.5  ...     7000   357.14285   503508.0  1235.8121   \n",
       "3     90    4.5  ...        0   357.14285   503508.0  1235.8121   \n",
       "4    100    2.0  ...    15000   357.14285   503508.0  1235.8121   \n",
       "\n",
       "   rendement_spec  autcons  autcons_spec  taux_autocons    sum_sup   part_sup  \n",
       "0       407.43085    750.0      427525.0      84.909279  3034.0105  40.731968  \n",
       "1       407.43085    340.0      427525.0      84.909279  3034.0105  40.731968  \n",
       "2       407.43085    350.0      427525.0      84.909279  3034.0105  40.731968  \n",
       "3       407.43085   1000.0      427525.0      84.909279  3034.0105  40.731968  \n",
       "4       407.43085    400.0      427525.0      84.909279  3034.0105  40.731968  \n",
       "\n",
       "[5 rows x 36 columns]"
      ]
     },
     "execution_count": 3,
     "metadata": {},
     "output_type": "execute_result"
    }
   ],
   "source": [
    "data= pd.read_csv(\"base_TP2.csv\")\n",
    "data.head()"
   ]
  },
  {
   "cell_type": "code",
   "execution_count": 4,
   "metadata": {},
   "outputs": [
    {
     "name": "stdout",
     "output_type": "stream",
     "text": [
      "<class 'pandas.core.frame.DataFrame'>\n",
      "RangeIndex: 1205 entries, 0 to 1204\n",
      "Data columns (total 36 columns):\n",
      " #   Column          Non-Null Count  Dtype  \n",
      "---  ------          --------------  -----  \n",
      " 0   ID              1205 non-null   int64  \n",
      " 1   zone            1205 non-null   object \n",
      " 2   commune         1205 non-null   object \n",
      " 3   comcode         1205 non-null   int64  \n",
      " 4   cropname        1205 non-null   object \n",
      " 5   cprod           1205 non-null   float64\n",
      " 6   cqsold          1205 non-null   int64  \n",
      " 7   cpg             1205 non-null   float64\n",
      " 8   cgift           1205 non-null   int64  \n",
      " 9   cland           1205 non-null   float64\n",
      " 10  cvar            1205 non-null   int64  \n",
      " 11  hh_men          1205 non-null   int64  \n",
      " 12  hh_women        1205 non-null   int64  \n",
      " 13  hh_myoung       1205 non-null   int64  \n",
      " 14  hh_fyoung       1205 non-null   int64  \n",
      " 15  hh_children     1205 non-null   int64  \n",
      " 16  hh_fem          1205 non-null   int64  \n",
      " 17  ag_men          1168 non-null   float64\n",
      " 18  ag_women        1131 non-null   float64\n",
      " 19  ag_myoung       1108 non-null   float64\n",
      " 20  ag_fyoung       1107 non-null   float64\n",
      " 21  ag_children     1186 non-null   float64\n",
      " 22  if_extworkers   1205 non-null   int64  \n",
      " 23  prod_act        0 non-null      float64\n",
      " 24  area            1205 non-null   float64\n",
      " 25  seedsexp        1205 non-null   int64  \n",
      " 26  fertexp         1205 non-null   int64  \n",
      " 27  mean_price      1205 non-null   float64\n",
      " 28  sum_cprod       1205 non-null   float64\n",
      " 29  sum_area        1205 non-null   float64\n",
      " 30  rendement_spec  1205 non-null   float64\n",
      " 31  autcons         1205 non-null   float64\n",
      " 32  autcons_spec    1205 non-null   float64\n",
      " 33  taux_autocons   1205 non-null   float64\n",
      " 34  sum_sup         1205 non-null   float64\n",
      " 35  part_sup        1205 non-null   float64\n",
      "dtypes: float64(19), int64(14), object(3)\n",
      "memory usage: 339.0+ KB\n"
     ]
    }
   ],
   "source": [
    "data.info()"
   ]
  },
  {
   "cell_type": "markdown",
   "metadata": {},
   "source": [
    "##  Préparation des données"
   ]
  },
  {
   "cell_type": "markdown",
   "metadata": {},
   "source": [
    "####  1. explorer le dataset base_TP2"
   ]
  },
  {
   "cell_type": "code",
   "execution_count": 5,
   "metadata": {
    "colab": {
     "base_uri": "https://localhost:8080/",
     "height": 0
    },
    "executionInfo": {
     "elapsed": 15084,
     "status": "ok",
     "timestamp": 1745086396596,
     "user": {
      "displayName": "Leslye Nkwa",
      "userId": "08123426273878723675"
     },
     "user_tz": 0
    },
    "id": "ZdWFkAyEmoJG",
    "outputId": "28ce2d06-dbe9-4103-a59a-ae86cd615db1"
   },
   "outputs": [
    {
     "data": {
      "text/plain": [
       "np.True_"
      ]
     },
     "execution_count": 5,
     "metadata": {},
     "output_type": "execute_result"
    }
   ],
   "source": [
    "data[\"ID\"].duplicated().any()"
   ]
  },
  {
   "cell_type": "markdown",
   "metadata": {},
   "source": [
    " #### 2. Inspecter la variable ID. Comporte-t-elle des doublons? Pourquoi?"
   ]
  },
  {
   "cell_type": "code",
   "execution_count": 6,
   "metadata": {
    "executionInfo": {
     "elapsed": 3,
     "status": "ok",
     "timestamp": 1745086396600,
     "user": {
      "displayName": "Leslye Nkwa",
      "userId": "08123426273878723675"
     },
     "user_tz": 0
    },
    "id": "AbQ10gEKNKCZ"
   },
   "outputs": [
    {
     "name": "stdout",
     "output_type": "stream",
     "text": [
      "['Mil' 'Sorgho' 'Niébé' 'Arachides' 'Maïs' 'Riz']\n"
     ]
    }
   ],
   "source": [
    "valeurs_uniques = data['cropname'].unique()\n",
    "print(valeurs_uniques)"
   ]
  },
  {
   "cell_type": "markdown",
   "metadata": {},
   "source": [
    "##### Il y a des doublons car un même ménahes peut être inclus plusieurs fois dans notre base de données sachant qu'elle peut avoir beaucoup de cultures."
   ]
  },
  {
   "cell_type": "markdown",
   "metadata": {},
   "source": [
    "####  4.supprimons les observations pour lesquelles les productions et les superficies sont toutes deux nulles"
   ]
  },
  {
   "cell_type": "code",
   "execution_count": 7,
   "metadata": {},
   "outputs": [],
   "source": [
    "data = data[~((data['cprod'] == 0) & (data['area'] == 0))]\n"
   ]
  },
  {
   "cell_type": "markdown",
   "metadata": {},
   "source": [
    "#### 5. ramener `a missing les prix valant ”99\""
   ]
  },
  {
   "cell_type": "code",
   "execution_count": 8,
   "metadata": {},
   "outputs": [
    {
     "data": {
      "text/plain": [
       "np.False_"
      ]
     },
     "execution_count": 8,
     "metadata": {},
     "output_type": "execute_result"
    }
   ],
   "source": [
    "data['cpg'] = data['cpg'].replace(99, np.nan)\n",
    "data[\"cpg\"].isnull().any()"
   ]
  },
  {
   "cell_type": "markdown",
   "metadata": {},
   "source": [
    "####  6.Imputer par la moyenne de la commune, les prix manquants."
   ]
  },
  {
   "cell_type": "code",
   "execution_count": 9,
   "metadata": {},
   "outputs": [],
   "source": [
    "data['cpg'] = data.groupby('commune')['cpg'].transform(lambda x: x.fillna(x.mean()))"
   ]
  },
  {
   "cell_type": "markdown",
   "metadata": {},
   "source": [
    "##   Calcul d’indicateurs"
   ]
  },
  {
   "cell_type": "markdown",
   "metadata": {},
   "source": [
    "####   1. Le rendement pour chaque spéculation"
   ]
  },
  {
   "cell_type": "code",
   "execution_count": 10,
   "metadata": {},
   "outputs": [
    {
     "name": "stdout",
     "output_type": "stream",
     "text": [
      "    cropname   rendement\n",
      "0  Arachides  616.709913\n",
      "1       Maïs  401.507158\n",
      "2        Mil  539.837645\n",
      "3      Niébé  255.713415\n",
      "4        Riz  813.333333\n",
      "5     Sorgho  307.550794\n"
     ]
    }
   ],
   "source": [
    "data['rendement'] = data['cprod'] / data['cland']\n",
    "rendement_moyen = data.groupby('cropname')['rendement'].mean().reset_index()\n",
    "print(rendement_moyen)\n"
   ]
  },
  {
   "cell_type": "markdown",
   "metadata": {},
   "source": [
    "####   2. la part de la superficie totale occup´ ee par les diff´ erentes sp´ eculations"
   ]
  },
  {
   "cell_type": "code",
   "execution_count": 11,
   "metadata": {},
   "outputs": [
    {
     "name": "stdout",
     "output_type": "stream",
     "text": [
      "    cropname      cland\n",
      "0  Arachides  44.886163\n",
      "1       Maïs   8.275761\n",
      "2        Mil  40.731967\n",
      "3      Niébé   1.722473\n",
      "4        Riz   0.146671\n",
      "5     Sorgho   4.236966\n"
     ]
    }
   ],
   "source": [
    "superficie_spec = data.groupby('cropname')['cland'].sum().reset_index()\n",
    "superficie_spec[\"cland\"]= superficie_spec[\"cland\"]*100/ data['cland'].sum()\n",
    "print(superficie_spec)"
   ]
  },
  {
   "cell_type": "markdown",
   "metadata": {},
   "source": [
    "#### 3. le taux d’autoconsommation de chaque spéculation"
   ]
  },
  {
   "cell_type": "code",
   "execution_count": 12,
   "metadata": {},
   "outputs": [
    {
     "name": "stdout",
     "output_type": "stream",
     "text": [
      "    cropname  autocons  autocons_t\n",
      "0  Arachides  269852.0   33.303652\n",
      "1       Maïs   78774.5    9.721916\n",
      "2        Mil  427525.0   52.762788\n",
      "3      Niébé    7362.0    0.908578\n",
      "4        Riz    1758.0    0.216963\n",
      "5     Sorgho   25006.0    3.086103\n"
     ]
    }
   ],
   "source": [
    "data[\"autocons\"] = data[\"cprod\"] - data[\"cqsold\"] - data[\"cgift\"]\n",
    "auto_cons_taux = data.groupby('cropname')['autocons'].sum().reset_index()\n",
    "\n",
    "# Calculate the percentage of total autocons for each crop\n",
    "auto_cons_taux[\"autocons_t\"] = auto_cons_taux[\"autocons\"] * 100 / data['autocons'].sum()\n",
    "\n",
    "print(auto_cons_taux)\n"
   ]
  },
  {
   "cell_type": "markdown",
   "metadata": {},
   "source": [
    "#### 4. l’indice de diversité des cultures"
   ]
  },
  {
   "cell_type": "code",
   "execution_count": 13,
   "metadata": {},
   "outputs": [],
   "source": [
    "def indice_diversite(data, surface_col='cland', culture_col='cropname', variete_col='cvar'):\n",
    "    \"\"\"\n",
    "    Calcule un indice de diversité tenant compte du nombre de variétés par culture.\n",
    "\n",
    "    Formule :\n",
    "        1 - ∑ (1 / C_i) * (x_i / ∑ x_i)^2\n",
    "    \"\"\"\n",
    "    import numpy as np\n",
    "\n",
    "    # Agréger les superficies et les variétés par culture\n",
    "    df = data.groupby(culture_col).agg({\n",
    "        surface_col: 'sum',\n",
    "        variete_col: 'max'  # ou 'mean' selon ton jeu de données\n",
    "    }).reset_index()\n",
    "\n",
    "    total_surface = df[surface_col].sum()\n",
    "\n",
    "    if total_surface == 0:\n",
    "        return 0\n",
    "\n",
    "    somme = 0\n",
    "    for _, row in df.iterrows():\n",
    "        xi = row[surface_col]\n",
    "        ci = row[variete_col]\n",
    "        if ci > 0:\n",
    "            proportion = xi / total_surface\n",
    "            somme += (1 / ci) * (proportion ** 2)\n",
    "\n",
    "    indice = 1 - somme\n",
    "    return indice\n",
    "\n"
   ]
  },
  {
   "cell_type": "code",
   "execution_count": 14,
   "metadata": {},
   "outputs": [
    {
     "name": "stdout",
     "output_type": "stream",
     "text": [
      "0.9996386660415341\n"
     ]
    }
   ],
   "source": [
    "x=indice_diversite(data,\"cland\", \"cropname\", \"cvar\")\n",
    "print(x)"
   ]
  },
  {
   "cell_type": "markdown",
   "metadata": {
    "id": "M-BARO1nAgdL"
   },
   "source": [
    "## Visualisation"
   ]
  },
  {
   "cell_type": "markdown",
   "metadata": {},
   "source": [
    "#### 1. la part des sp´eculations et termes de superficie occup´ ee"
   ]
  },
  {
   "cell_type": "code",
   "execution_count": 15,
   "metadata": {
    "executionInfo": {
     "elapsed": 9035,
     "status": "ok",
     "timestamp": 1745086619910,
     "user": {
      "displayName": "Leslye Nkwa",
      "userId": "08123426273878723675"
     },
     "user_tz": 0
    },
    "id": "GPvN-i9k703R"
   },
   "outputs": [
    {
     "data": {
      "image/png": "[encoded data removed]",
      "text/plain": [
       "<Figure size 1000x600 with 1 Axes>"
      ]
     },
     "metadata": {},
     "output_type": "display_data"
    }
   ],
   "source": [
    "plt.figure(figsize=(10, 6))  # Taille de la figure\n",
    "plt.bar(superficie_spec[\"cropname\"],superficie_spec[\"cland\"], color='blue')\n",
    "bars = plt.bar(superficie_spec[\"cropname\"],superficie_spec[\"cland\"], color='blue')\n",
    "\n",
    "for bar in bars:\n",
    "    height = bar.get_height()\n",
    "    plt.text(\n",
    "        bar.get_x() + bar.get_width() / 2,  # position x centrée sur la barre\n",
    "        height + 1,                         # position y un peu au-dessus de la barre\n",
    "        f'{height:.1f}%',                   # texte (formatté avec 1 décimale)\n",
    "        ha='center', va='bottom', fontsize=10\n",
    "    )\n",
    "plt.title('la part des spéculations et termes de superficie occupée', fontsize=14)\n",
    "plt.tight_layout()  # Ajuste l'espace pour que tout soit bien visible\n",
    "plt.show()"
   ]
  },
  {
   "cell_type": "markdown",
   "metadata": {},
   "source": [
    "####  2. le prix de l’arachide par zone"
   ]
  },
  {
   "cell_type": "code",
   "execution_count": 16,
   "metadata": {},
   "outputs": [
    {
     "name": "stdout",
     "output_type": "stream",
     "text": [
      "                zone         cpg\n",
      "0           Kaffrine  232.473822\n",
      "1    Diourbel-Fatick  322.793696\n",
      "2    Foundiougne Sud  244.247727\n",
      "3  Tambacounda-Ouest  237.787918\n"
     ]
    },
    {
     "data": {
      "image/png": "[encoded data removed]",
      "text/plain": [
       "<Figure size 1000x600 with 1 Axes>"
      ]
     },
     "metadata": {},
     "output_type": "display_data"
    }
   ],
   "source": [
    "prix_zone = data.groupby(\"zone\")[\"cpg\"].mean().reset_index()\n",
    "print(prix_zone)\n",
    "plt.figure(figsize=(10, 6)) \n",
    "plt.bar(prix_zone[\"zone\"],prix_zone[\"cpg\"], color='blue')\n",
    "bars = plt.bar(prix_zone[\"zone\"],prix_zone[\"cpg\"], color='blue')\n",
    "\n",
    "for bar in bars:\n",
    "    height = bar.get_height()\n",
    "    plt.text(\n",
    "        bar.get_x() + bar.get_width() / 2,  # position x centrée sur la barre\n",
    "        height + 1,                         # position y un peu au-dessus de la barre\n",
    "        f'{height:.1f}',                   # texte (formatté avec 1 décimale)\n",
    "        ha='center', va='bottom', fontsize=10\n",
    "    )\n",
    "plt.title(' le prix moyen de l’arachide par zone', fontsize=14)\n",
    "plt.tight_layout()  \n",
    "plt.show()"
   ]
  },
  {
   "cell_type": "markdown",
   "metadata": {},
   "source": [
    "####   3. le rendement de mil par commune"
   ]
  },
  {
   "cell_type": "code",
   "execution_count": 17,
   "metadata": {
    "colab": {
     "base_uri": "https://localhost:8080/"
    },
    "executionInfo": {
     "elapsed": 15,
     "status": "ok",
     "timestamp": 1745086624286,
     "user": {
      "displayName": "Leslye Nkwa",
      "userId": "08123426273878723675"
     },
     "user_tz": 0
    },
    "id": "x2Cv_NPT_eI-",
    "outputId": "27624f77-6775-41ab-88ef-4085ebcfc838"
   },
   "outputs": [
    {
     "data": {
      "text/html": [
       "<div>\n",
       "<style scoped>\n",
       "    .dataframe tbody tr th:only-of-type {\n",
       "        vertical-align: middle;\n",
       "    }\n",
       "\n",
       "    .dataframe tbody tr th {\n",
       "        vertical-align: top;\n",
       "    }\n",
       "\n",
       "    .dataframe thead th {\n",
       "        text-align: right;\n",
       "    }\n",
       "</style>\n",
       "<table border=\"1\" class=\"dataframe\">\n",
       "  <thead>\n",
       "    <tr style=\"text-align: right;\">\n",
       "      <th></th>\n",
       "      <th>ID</th>\n",
       "      <th>zone</th>\n",
       "      <th>commune</th>\n",
       "      <th>comcode</th>\n",
       "      <th>cropname</th>\n",
       "      <th>cprod</th>\n",
       "      <th>cqsold</th>\n",
       "      <th>cpg</th>\n",
       "      <th>cgift</th>\n",
       "      <th>cland</th>\n",
       "      <th>...</th>\n",
       "      <th>sum_cprod</th>\n",
       "      <th>sum_area</th>\n",
       "      <th>rendement_spec</th>\n",
       "      <th>autcons</th>\n",
       "      <th>autcons_spec</th>\n",
       "      <th>taux_autocons</th>\n",
       "      <th>sum_sup</th>\n",
       "      <th>part_sup</th>\n",
       "      <th>rendement</th>\n",
       "      <th>autocons</th>\n",
       "    </tr>\n",
       "  </thead>\n",
       "  <tbody>\n",
       "    <tr>\n",
       "      <th>0</th>\n",
       "      <td>198</td>\n",
       "      <td>Diourbel-Fatick</td>\n",
       "      <td>Diouroup</td>\n",
       "      <td>4</td>\n",
       "      <td>Mil</td>\n",
       "      <td>820.0</td>\n",
       "      <td>0</td>\n",
       "      <td>300.0</td>\n",
       "      <td>70</td>\n",
       "      <td>6.0</td>\n",
       "      <td>...</td>\n",
       "      <td>503508.0</td>\n",
       "      <td>1235.8121</td>\n",
       "      <td>407.43085</td>\n",
       "      <td>750.0</td>\n",
       "      <td>427525.0</td>\n",
       "      <td>84.909279</td>\n",
       "      <td>3034.0105</td>\n",
       "      <td>40.731968</td>\n",
       "      <td>136.666667</td>\n",
       "      <td>750.0</td>\n",
       "    </tr>\n",
       "    <tr>\n",
       "      <th>1</th>\n",
       "      <td>149</td>\n",
       "      <td>Diourbel-Fatick</td>\n",
       "      <td>Diouroup</td>\n",
       "      <td>4</td>\n",
       "      <td>Mil</td>\n",
       "      <td>500.0</td>\n",
       "      <td>0</td>\n",
       "      <td>300.0</td>\n",
       "      <td>160</td>\n",
       "      <td>3.0</td>\n",
       "      <td>...</td>\n",
       "      <td>503508.0</td>\n",
       "      <td>1235.8121</td>\n",
       "      <td>407.43085</td>\n",
       "      <td>340.0</td>\n",
       "      <td>427525.0</td>\n",
       "      <td>84.909279</td>\n",
       "      <td>3034.0105</td>\n",
       "      <td>40.731968</td>\n",
       "      <td>166.666667</td>\n",
       "      <td>340.0</td>\n",
       "    </tr>\n",
       "    <tr>\n",
       "      <th>2</th>\n",
       "      <td>146</td>\n",
       "      <td>Diourbel-Fatick</td>\n",
       "      <td>Diouroup</td>\n",
       "      <td>4</td>\n",
       "      <td>Mil</td>\n",
       "      <td>450.0</td>\n",
       "      <td>0</td>\n",
       "      <td>250.0</td>\n",
       "      <td>100</td>\n",
       "      <td>0.5</td>\n",
       "      <td>...</td>\n",
       "      <td>503508.0</td>\n",
       "      <td>1235.8121</td>\n",
       "      <td>407.43085</td>\n",
       "      <td>350.0</td>\n",
       "      <td>427525.0</td>\n",
       "      <td>84.909279</td>\n",
       "      <td>3034.0105</td>\n",
       "      <td>40.731968</td>\n",
       "      <td>900.000000</td>\n",
       "      <td>350.0</td>\n",
       "    </tr>\n",
       "    <tr>\n",
       "      <th>3</th>\n",
       "      <td>196</td>\n",
       "      <td>Diourbel-Fatick</td>\n",
       "      <td>Diouroup</td>\n",
       "      <td>4</td>\n",
       "      <td>Mil</td>\n",
       "      <td>1090.0</td>\n",
       "      <td>0</td>\n",
       "      <td>300.0</td>\n",
       "      <td>90</td>\n",
       "      <td>4.5</td>\n",
       "      <td>...</td>\n",
       "      <td>503508.0</td>\n",
       "      <td>1235.8121</td>\n",
       "      <td>407.43085</td>\n",
       "      <td>1000.0</td>\n",
       "      <td>427525.0</td>\n",
       "      <td>84.909279</td>\n",
       "      <td>3034.0105</td>\n",
       "      <td>40.731968</td>\n",
       "      <td>242.222222</td>\n",
       "      <td>1000.0</td>\n",
       "    </tr>\n",
       "    <tr>\n",
       "      <th>4</th>\n",
       "      <td>236</td>\n",
       "      <td>Diourbel-Fatick</td>\n",
       "      <td>Diouroup</td>\n",
       "      <td>4</td>\n",
       "      <td>Mil</td>\n",
       "      <td>500.0</td>\n",
       "      <td>0</td>\n",
       "      <td>300.0</td>\n",
       "      <td>100</td>\n",
       "      <td>2.0</td>\n",
       "      <td>...</td>\n",
       "      <td>503508.0</td>\n",
       "      <td>1235.8121</td>\n",
       "      <td>407.43085</td>\n",
       "      <td>400.0</td>\n",
       "      <td>427525.0</td>\n",
       "      <td>84.909279</td>\n",
       "      <td>3034.0105</td>\n",
       "      <td>40.731968</td>\n",
       "      <td>250.000000</td>\n",
       "      <td>400.0</td>\n",
       "    </tr>\n",
       "  </tbody>\n",
       "</table>\n",
       "<p>5 rows × 38 columns</p>\n",
       "</div>"
      ],
      "text/plain": [
       "    ID             zone   commune  comcode cropname   cprod  cqsold    cpg  \\\n",
       "0  198  Diourbel-Fatick  Diouroup        4      Mil   820.0       0  300.0   \n",
       "1  149  Diourbel-Fatick  Diouroup        4      Mil   500.0       0  300.0   \n",
       "2  146  Diourbel-Fatick  Diouroup        4      Mil   450.0       0  250.0   \n",
       "3  196  Diourbel-Fatick  Diouroup        4      Mil  1090.0       0  300.0   \n",
       "4  236  Diourbel-Fatick  Diouroup        4      Mil   500.0       0  300.0   \n",
       "\n",
       "   cgift  cland  ...  sum_cprod   sum_area  rendement_spec  autcons  \\\n",
       "0     70    6.0  ...   503508.0  1235.8121       407.43085    750.0   \n",
       "1    160    3.0  ...   503508.0  1235.8121       407.43085    340.0   \n",
       "2    100    0.5  ...   503508.0  1235.8121       407.43085    350.0   \n",
       "3     90    4.5  ...   503508.0  1235.8121       407.43085   1000.0   \n",
       "4    100    2.0  ...   503508.0  1235.8121       407.43085    400.0   \n",
       "\n",
       "   autcons_spec  taux_autocons    sum_sup   part_sup   rendement  autocons  \n",
       "0      427525.0      84.909279  3034.0105  40.731968  136.666667     750.0  \n",
       "1      427525.0      84.909279  3034.0105  40.731968  166.666667     340.0  \n",
       "2      427525.0      84.909279  3034.0105  40.731968  900.000000     350.0  \n",
       "3      427525.0      84.909279  3034.0105  40.731968  242.222222    1000.0  \n",
       "4      427525.0      84.909279  3034.0105  40.731968  250.000000     400.0  \n",
       "\n",
       "[5 rows x 38 columns]"
      ]
     },
     "execution_count": 17,
     "metadata": {},
     "output_type": "execute_result"
    }
   ],
   "source": [
    "data_mil = data[data[\"cropname\"] == \"Mil\"]\n",
    "data_mil.head()\n"
   ]
  },
  {
   "cell_type": "code",
   "execution_count": 18,
   "metadata": {},
   "outputs": [
    {
     "data": {
      "image/png": "[encoded data removed]",
      "text/plain": [
       "<Figure size 1000x600 with 1 Axes>"
      ]
     },
     "metadata": {},
     "output_type": "display_data"
    }
   ],
   "source": [
    "rendement_mil= data.groupby(\"commune\")[\"rendement\"].mean().reset_index()\n",
    "rendement_mil.head()\n",
    "plt.figure(figsize=(10, 6)) \n",
    "plt.bar(rendement_mil[\"commune\"],rendement_mil[\"rendement\"], color='blue')\n",
    "bars = plt.bar(rendement_mil[\"commune\"],rendement_mil[\"rendement\"], color='blue')\n",
    "\n",
    "for bar in bars:\n",
    "    height = bar.get_height()\n",
    "    plt.text(\n",
    "        bar.get_x() + bar.get_width() / 2,  # position x centrée sur la barre\n",
    "        height + 1,                         # position y un peu au-dessus de la barre\n",
    "        f'{height:.1f}',                   # texte (formatté avec 1 décimale)\n",
    "        ha='center', va='bottom', fontsize=10\n",
    "    )\n",
    "plt.title(' le prix moyen de l’arachide par zone', fontsize=14)\n",
    "plt.tight_layout()  \n",
    "plt.xticks(rotation=45, ha='right')\n",
    "plt.show()"
   ]
  },
  {
   "cell_type": "markdown",
   "metadata": {},
   "source": [
    "####  4. la relation entre les d´ epenses en fertilisants fertexp et le rendement de l’arachide"
   ]
  },
  {
   "cell_type": "code",
   "execution_count": 19,
   "metadata": {
    "colab": {
     "base_uri": "https://localhost:8080/",
     "height": 461
    },
    "executionInfo": {
     "elapsed": 152,
     "status": "ok",
     "timestamp": 1745085747816,
     "user": {
      "displayName": "Leslye Nkwa",
      "userId": "08123426273878723675"
     },
     "user_tz": 0
    },
    "id": "9OiXaim0QhLm",
    "outputId": "48995bca-c2d7-4945-90cb-a1c50a10d344"
   },
   "outputs": [
    {
     "data": {
      "text/html": [
       "<div>\n",
       "<style scoped>\n",
       "    .dataframe tbody tr th:only-of-type {\n",
       "        vertical-align: middle;\n",
       "    }\n",
       "\n",
       "    .dataframe tbody tr th {\n",
       "        vertical-align: top;\n",
       "    }\n",
       "\n",
       "    .dataframe thead th {\n",
       "        text-align: right;\n",
       "    }\n",
       "</style>\n",
       "<table border=\"1\" class=\"dataframe\">\n",
       "  <thead>\n",
       "    <tr style=\"text-align: right;\">\n",
       "      <th></th>\n",
       "      <th>ID</th>\n",
       "      <th>zone</th>\n",
       "      <th>commune</th>\n",
       "      <th>comcode</th>\n",
       "      <th>cropname</th>\n",
       "      <th>cprod</th>\n",
       "      <th>cqsold</th>\n",
       "      <th>cpg</th>\n",
       "      <th>cgift</th>\n",
       "      <th>cland</th>\n",
       "      <th>...</th>\n",
       "      <th>sum_cprod</th>\n",
       "      <th>sum_area</th>\n",
       "      <th>rendement_spec</th>\n",
       "      <th>autcons</th>\n",
       "      <th>autcons_spec</th>\n",
       "      <th>taux_autocons</th>\n",
       "      <th>sum_sup</th>\n",
       "      <th>part_sup</th>\n",
       "      <th>rendement</th>\n",
       "      <th>autocons</th>\n",
       "    </tr>\n",
       "  </thead>\n",
       "  <tbody>\n",
       "    <tr>\n",
       "      <th>30</th>\n",
       "      <td>150</td>\n",
       "      <td>Diourbel-Fatick</td>\n",
       "      <td>Diouroup</td>\n",
       "      <td>4</td>\n",
       "      <td>Arachides</td>\n",
       "      <td>100.0</td>\n",
       "      <td>0</td>\n",
       "      <td>300.0</td>\n",
       "      <td>0</td>\n",
       "      <td>2.0</td>\n",
       "      <td>...</td>\n",
       "      <td>787203.0</td>\n",
       "      <td>1361.851</td>\n",
       "      <td>578.039</td>\n",
       "      <td>100.0</td>\n",
       "      <td>269852.0</td>\n",
       "      <td>34.27985</td>\n",
       "      <td>3034.0105</td>\n",
       "      <td>44.886166</td>\n",
       "      <td>50.0</td>\n",
       "      <td>100.0</td>\n",
       "    </tr>\n",
       "    <tr>\n",
       "      <th>31</th>\n",
       "      <td>235</td>\n",
       "      <td>Diourbel-Fatick</td>\n",
       "      <td>Diouroup</td>\n",
       "      <td>4</td>\n",
       "      <td>Arachides</td>\n",
       "      <td>150.0</td>\n",
       "      <td>0</td>\n",
       "      <td>275.0</td>\n",
       "      <td>0</td>\n",
       "      <td>2.0</td>\n",
       "      <td>...</td>\n",
       "      <td>787203.0</td>\n",
       "      <td>1361.851</td>\n",
       "      <td>578.039</td>\n",
       "      <td>150.0</td>\n",
       "      <td>269852.0</td>\n",
       "      <td>34.27985</td>\n",
       "      <td>3034.0105</td>\n",
       "      <td>44.886166</td>\n",
       "      <td>75.0</td>\n",
       "      <td>150.0</td>\n",
       "    </tr>\n",
       "    <tr>\n",
       "      <th>32</th>\n",
       "      <td>147</td>\n",
       "      <td>Diourbel-Fatick</td>\n",
       "      <td>Diouroup</td>\n",
       "      <td>4</td>\n",
       "      <td>Arachides</td>\n",
       "      <td>50.0</td>\n",
       "      <td>0</td>\n",
       "      <td>275.0</td>\n",
       "      <td>0</td>\n",
       "      <td>1.0</td>\n",
       "      <td>...</td>\n",
       "      <td>787203.0</td>\n",
       "      <td>1361.851</td>\n",
       "      <td>578.039</td>\n",
       "      <td>50.0</td>\n",
       "      <td>269852.0</td>\n",
       "      <td>34.27985</td>\n",
       "      <td>3034.0105</td>\n",
       "      <td>44.886166</td>\n",
       "      <td>50.0</td>\n",
       "      <td>50.0</td>\n",
       "    </tr>\n",
       "    <tr>\n",
       "      <th>33</th>\n",
       "      <td>236</td>\n",
       "      <td>Diourbel-Fatick</td>\n",
       "      <td>Diouroup</td>\n",
       "      <td>4</td>\n",
       "      <td>Arachides</td>\n",
       "      <td>0.0</td>\n",
       "      <td>0</td>\n",
       "      <td>300.0</td>\n",
       "      <td>0</td>\n",
       "      <td>1.0</td>\n",
       "      <td>...</td>\n",
       "      <td>787203.0</td>\n",
       "      <td>1361.851</td>\n",
       "      <td>578.039</td>\n",
       "      <td>0.0</td>\n",
       "      <td>269852.0</td>\n",
       "      <td>34.27985</td>\n",
       "      <td>3034.0105</td>\n",
       "      <td>44.886166</td>\n",
       "      <td>0.0</td>\n",
       "      <td>0.0</td>\n",
       "    </tr>\n",
       "    <tr>\n",
       "      <th>34</th>\n",
       "      <td>312</td>\n",
       "      <td>Diourbel-Fatick</td>\n",
       "      <td>Diouroup</td>\n",
       "      <td>4</td>\n",
       "      <td>Arachides</td>\n",
       "      <td>600.0</td>\n",
       "      <td>400</td>\n",
       "      <td>250.0</td>\n",
       "      <td>50</td>\n",
       "      <td>1.0</td>\n",
       "      <td>...</td>\n",
       "      <td>787203.0</td>\n",
       "      <td>1361.851</td>\n",
       "      <td>578.039</td>\n",
       "      <td>150.0</td>\n",
       "      <td>269852.0</td>\n",
       "      <td>34.27985</td>\n",
       "      <td>3034.0105</td>\n",
       "      <td>44.886166</td>\n",
       "      <td>600.0</td>\n",
       "      <td>150.0</td>\n",
       "    </tr>\n",
       "  </tbody>\n",
       "</table>\n",
       "<p>5 rows × 38 columns</p>\n",
       "</div>"
      ],
      "text/plain": [
       "     ID             zone   commune  comcode   cropname  cprod  cqsold    cpg  \\\n",
       "30  150  Diourbel-Fatick  Diouroup        4  Arachides  100.0       0  300.0   \n",
       "31  235  Diourbel-Fatick  Diouroup        4  Arachides  150.0       0  275.0   \n",
       "32  147  Diourbel-Fatick  Diouroup        4  Arachides   50.0       0  275.0   \n",
       "33  236  Diourbel-Fatick  Diouroup        4  Arachides    0.0       0  300.0   \n",
       "34  312  Diourbel-Fatick  Diouroup        4  Arachides  600.0     400  250.0   \n",
       "\n",
       "    cgift  cland  ...  sum_cprod  sum_area  rendement_spec  autcons  \\\n",
       "30      0    2.0  ...   787203.0  1361.851         578.039    100.0   \n",
       "31      0    2.0  ...   787203.0  1361.851         578.039    150.0   \n",
       "32      0    1.0  ...   787203.0  1361.851         578.039     50.0   \n",
       "33      0    1.0  ...   787203.0  1361.851         578.039      0.0   \n",
       "34     50    1.0  ...   787203.0  1361.851         578.039    150.0   \n",
       "\n",
       "    autcons_spec  taux_autocons    sum_sup   part_sup  rendement  autocons  \n",
       "30      269852.0       34.27985  3034.0105  44.886166       50.0     100.0  \n",
       "31      269852.0       34.27985  3034.0105  44.886166       75.0     150.0  \n",
       "32      269852.0       34.27985  3034.0105  44.886166       50.0      50.0  \n",
       "33      269852.0       34.27985  3034.0105  44.886166        0.0       0.0  \n",
       "34      269852.0       34.27985  3034.0105  44.886166      600.0     150.0  \n",
       "\n",
       "[5 rows x 38 columns]"
      ]
     },
     "execution_count": 19,
     "metadata": {},
     "output_type": "execute_result"
    }
   ],
   "source": [
    "data_arachide = data[data[\"cropname\"] == \"Arachides\"]\n",
    "data_arachide.head()"
   ]
  },
  {
   "cell_type": "code",
   "execution_count": 20,
   "metadata": {},
   "outputs": [
    {
     "data": {
      "image/png": "[encoded data removed]",
      "text/plain": [
       "<Figure size 800x600 with 1 Axes>"
      ]
     },
     "metadata": {},
     "output_type": "display_data"
    }
   ],
   "source": [
    "import seaborn as sns\n",
    "\n",
    "\n",
    "plt.figure(figsize=(8, 6))\n",
    "sns.scatterplot(data=data_arachide, x='fertexp', y='rendement')  \n",
    "plt.xlabel(\"Dépenses en fertilisants (fertexp)\")\n",
    "plt.ylabel(\"Rendement de l'arachide\")\n",
    "plt.title(\"Relation entre fertilisants et rendement de l'arachide\")\n",
    "plt.tight_layout()\n",
    "plt.show()\n"
   ]
  },
  {
   "cell_type": "code",
   "execution_count": 21,
   "metadata": {},
   "outputs": [
    {
     "data": {
      "image/png": "[encoded data removed]",
      "text/plain": [
       "<Figure size 750x500 with 1 Axes>"
      ]
     },
     "metadata": {},
     "output_type": "display_data"
    }
   ],
   "source": [
    "sns.lmplot(data=data_arachide, x='fertexp', y='rendement', aspect=1.5, line_kws={\"color\": \"red\"})\n",
    "plt.title(\"Régression linéaire : fertilisants vs rendement arachide\")\n",
    "plt.show()\n"
   ]
  },
  {
   "cell_type": "code",
   "execution_count": 22,
   "metadata": {},
   "outputs": [
    {
     "name": "stdout",
     "output_type": "stream",
     "text": [
      "                            OLS Regression Results                            \n",
      "==============================================================================\n",
      "Dep. Variable:              rendement   R-squared:                       0.004\n",
      "Model:                            OLS   Adj. R-squared:                  0.002\n",
      "Method:                 Least Squares   F-statistic:                     1.640\n",
      "Date:                Fri, 25 Apr 2025   Prob (F-statistic):              0.201\n",
      "Time:                        01:03:42   Log-Likelihood:                -3374.1\n",
      "No. Observations:                 419   AIC:                             6752.\n",
      "Df Residuals:                     417   BIC:                             6760.\n",
      "Df Model:                           1                                         \n",
      "Covariance Type:            nonrobust                                         \n",
      "==============================================================================\n",
      "                 coef    std err          t      P>|t|      [0.025      0.975]\n",
      "------------------------------------------------------------------------------\n",
      "const        587.2394     43.770     13.416      0.000     501.202     673.277\n",
      "fertexp        0.0007      0.001      1.281      0.201      -0.000       0.002\n",
      "==============================================================================\n",
      "Omnibus:                      634.819   Durbin-Watson:                   1.946\n",
      "Prob(Omnibus):                  0.000   Jarque-Bera (JB):           145211.879\n",
      "Skew:                           8.095   Prob(JB):                         0.00\n",
      "Kurtosis:                      92.752   Cond. No.                     9.62e+04\n",
      "==============================================================================\n",
      "\n",
      "Notes:\n",
      "[1] Standard Errors assume that the covariance matrix of the errors is correctly specified.\n",
      "[2] The condition number is large, 9.62e+04. This might indicate that there are\n",
      "strong multicollinearity or other numerical problems.\n"
     ]
    }
   ],
   "source": [
    "import statsmodels.api as sm\n",
    "\n",
    "X = data_arachide['fertexp']\n",
    "y = data_arachide['rendement']\n",
    "\n",
    "# Ajoute une constante pour l'intercept\n",
    "X = sm.add_constant(X)\n",
    "\n",
    "model = sm.OLS(y, X).fit()\n",
    "print(model.summary())\n"
   ]
  },
  {
   "cell_type": "markdown",
   "metadata": {},
   "source": [
    "##  BONUS"
   ]
  },
  {
   "cell_type": "code",
   "execution_count": 23,
   "metadata": {
    "colab": {
     "base_uri": "https://localhost:8080/",
     "height": 443
    },
    "executionInfo": {
     "elapsed": 811,
     "status": "ok",
     "timestamp": 1745085393471,
     "user": {
      "displayName": "Leslye Nkwa",
      "userId": "08123426273878723675"
     },
     "user_tz": 0
    },
    "id": "WhQjEUNQj1gE",
    "outputId": "4640a0d5-692c-4c13-f04f-b722a39b400d"
   },
   "outputs": [
    {
     "data": {
      "text/html": [
       "<div>\n",
       "<style scoped>\n",
       "    .dataframe tbody tr th:only-of-type {\n",
       "        vertical-align: middle;\n",
       "    }\n",
       "\n",
       "    .dataframe tbody tr th {\n",
       "        vertical-align: top;\n",
       "    }\n",
       "\n",
       "    .dataframe thead th {\n",
       "        text-align: right;\n",
       "    }\n",
       "</style>\n",
       "<table border=\"1\" class=\"dataframe\">\n",
       "  <thead>\n",
       "    <tr style=\"text-align: right;\">\n",
       "      <th></th>\n",
       "      <th>ID</th>\n",
       "      <th>zone</th>\n",
       "      <th>commune</th>\n",
       "      <th>comcode</th>\n",
       "      <th>cropname</th>\n",
       "      <th>cprod</th>\n",
       "      <th>cqsold</th>\n",
       "      <th>cpg</th>\n",
       "      <th>cgift</th>\n",
       "      <th>cland</th>\n",
       "      <th>...</th>\n",
       "      <th>sum_cprod</th>\n",
       "      <th>sum_area</th>\n",
       "      <th>rendement_spec</th>\n",
       "      <th>autcons</th>\n",
       "      <th>autcons_spec</th>\n",
       "      <th>taux_autocons</th>\n",
       "      <th>sum_sup</th>\n",
       "      <th>part_sup</th>\n",
       "      <th>rendement</th>\n",
       "      <th>autocons</th>\n",
       "    </tr>\n",
       "  </thead>\n",
       "  <tbody>\n",
       "    <tr>\n",
       "      <th>30</th>\n",
       "      <td>150</td>\n",
       "      <td>Diourbel-Fatick</td>\n",
       "      <td>Diouroup</td>\n",
       "      <td>4</td>\n",
       "      <td>Arachides</td>\n",
       "      <td>100.0</td>\n",
       "      <td>0</td>\n",
       "      <td>300.0</td>\n",
       "      <td>0</td>\n",
       "      <td>2.0</td>\n",
       "      <td>...</td>\n",
       "      <td>787203.0</td>\n",
       "      <td>1361.851</td>\n",
       "      <td>578.039</td>\n",
       "      <td>100.0</td>\n",
       "      <td>269852.0</td>\n",
       "      <td>34.27985</td>\n",
       "      <td>3034.0105</td>\n",
       "      <td>44.886166</td>\n",
       "      <td>50.0</td>\n",
       "      <td>100.0</td>\n",
       "    </tr>\n",
       "    <tr>\n",
       "      <th>31</th>\n",
       "      <td>235</td>\n",
       "      <td>Diourbel-Fatick</td>\n",
       "      <td>Diouroup</td>\n",
       "      <td>4</td>\n",
       "      <td>Arachides</td>\n",
       "      <td>150.0</td>\n",
       "      <td>0</td>\n",
       "      <td>275.0</td>\n",
       "      <td>0</td>\n",
       "      <td>2.0</td>\n",
       "      <td>...</td>\n",
       "      <td>787203.0</td>\n",
       "      <td>1361.851</td>\n",
       "      <td>578.039</td>\n",
       "      <td>150.0</td>\n",
       "      <td>269852.0</td>\n",
       "      <td>34.27985</td>\n",
       "      <td>3034.0105</td>\n",
       "      <td>44.886166</td>\n",
       "      <td>75.0</td>\n",
       "      <td>150.0</td>\n",
       "    </tr>\n",
       "    <tr>\n",
       "      <th>32</th>\n",
       "      <td>147</td>\n",
       "      <td>Diourbel-Fatick</td>\n",
       "      <td>Diouroup</td>\n",
       "      <td>4</td>\n",
       "      <td>Arachides</td>\n",
       "      <td>50.0</td>\n",
       "      <td>0</td>\n",
       "      <td>275.0</td>\n",
       "      <td>0</td>\n",
       "      <td>1.0</td>\n",
       "      <td>...</td>\n",
       "      <td>787203.0</td>\n",
       "      <td>1361.851</td>\n",
       "      <td>578.039</td>\n",
       "      <td>50.0</td>\n",
       "      <td>269852.0</td>\n",
       "      <td>34.27985</td>\n",
       "      <td>3034.0105</td>\n",
       "      <td>44.886166</td>\n",
       "      <td>50.0</td>\n",
       "      <td>50.0</td>\n",
       "    </tr>\n",
       "    <tr>\n",
       "      <th>33</th>\n",
       "      <td>236</td>\n",
       "      <td>Diourbel-Fatick</td>\n",
       "      <td>Diouroup</td>\n",
       "      <td>4</td>\n",
       "      <td>Arachides</td>\n",
       "      <td>0.0</td>\n",
       "      <td>0</td>\n",
       "      <td>300.0</td>\n",
       "      <td>0</td>\n",
       "      <td>1.0</td>\n",
       "      <td>...</td>\n",
       "      <td>787203.0</td>\n",
       "      <td>1361.851</td>\n",
       "      <td>578.039</td>\n",
       "      <td>0.0</td>\n",
       "      <td>269852.0</td>\n",
       "      <td>34.27985</td>\n",
       "      <td>3034.0105</td>\n",
       "      <td>44.886166</td>\n",
       "      <td>0.0</td>\n",
       "      <td>0.0</td>\n",
       "    </tr>\n",
       "    <tr>\n",
       "      <th>34</th>\n",
       "      <td>312</td>\n",
       "      <td>Diourbel-Fatick</td>\n",
       "      <td>Diouroup</td>\n",
       "      <td>4</td>\n",
       "      <td>Arachides</td>\n",
       "      <td>600.0</td>\n",
       "      <td>400</td>\n",
       "      <td>250.0</td>\n",
       "      <td>50</td>\n",
       "      <td>1.0</td>\n",
       "      <td>...</td>\n",
       "      <td>787203.0</td>\n",
       "      <td>1361.851</td>\n",
       "      <td>578.039</td>\n",
       "      <td>150.0</td>\n",
       "      <td>269852.0</td>\n",
       "      <td>34.27985</td>\n",
       "      <td>3034.0105</td>\n",
       "      <td>44.886166</td>\n",
       "      <td>600.0</td>\n",
       "      <td>150.0</td>\n",
       "    </tr>\n",
       "  </tbody>\n",
       "</table>\n",
       "<p>5 rows × 38 columns</p>\n",
       "</div>"
      ],
      "text/plain": [
       "     ID             zone   commune  comcode   cropname  cprod  cqsold    cpg  \\\n",
       "30  150  Diourbel-Fatick  Diouroup        4  Arachides  100.0       0  300.0   \n",
       "31  235  Diourbel-Fatick  Diouroup        4  Arachides  150.0       0  275.0   \n",
       "32  147  Diourbel-Fatick  Diouroup        4  Arachides   50.0       0  275.0   \n",
       "33  236  Diourbel-Fatick  Diouroup        4  Arachides    0.0       0  300.0   \n",
       "34  312  Diourbel-Fatick  Diouroup        4  Arachides  600.0     400  250.0   \n",
       "\n",
       "    cgift  cland  ...  sum_cprod  sum_area  rendement_spec  autcons  \\\n",
       "30      0    2.0  ...   787203.0  1361.851         578.039    100.0   \n",
       "31      0    2.0  ...   787203.0  1361.851         578.039    150.0   \n",
       "32      0    1.0  ...   787203.0  1361.851         578.039     50.0   \n",
       "33      0    1.0  ...   787203.0  1361.851         578.039      0.0   \n",
       "34     50    1.0  ...   787203.0  1361.851         578.039    150.0   \n",
       "\n",
       "    autcons_spec  taux_autocons    sum_sup   part_sup  rendement  autocons  \n",
       "30      269852.0       34.27985  3034.0105  44.886166       50.0     100.0  \n",
       "31      269852.0       34.27985  3034.0105  44.886166       75.0     150.0  \n",
       "32      269852.0       34.27985  3034.0105  44.886166       50.0      50.0  \n",
       "33      269852.0       34.27985  3034.0105  44.886166        0.0       0.0  \n",
       "34      269852.0       34.27985  3034.0105  44.886166      600.0     150.0  \n",
       "\n",
       "[5 rows x 38 columns]"
      ]
     },
     "execution_count": 23,
     "metadata": {},
     "output_type": "execute_result"
    }
   ],
   "source": [
    "arachide = data[data['cropname'] == 'Arachides']\n",
    "arachide.head()"
   ]
  },
  {
   "cell_type": "code",
   "execution_count": 24,
   "metadata": {
    "executionInfo": {
     "elapsed": 41,
     "status": "ok",
     "timestamp": 1745085735043,
     "user": {
      "displayName": "Leslye Nkwa",
      "userId": "08123426273878723675"
     },
     "user_tz": 0
    },
    "id": "FYeCqXR7MOE3"
   },
   "outputs": [
    {
     "name": "stderr",
     "output_type": "stream",
     "text": [
      "C:\\Users\\Nora\\AppData\\Local\\Temp\\ipykernel_25120\\3547875394.py:1: SettingWithCopyWarning: \n",
      "A value is trying to be set on a copy of a slice from a DataFrame.\n",
      "Try using .loc[row_indexer,col_indexer] = value instead\n",
      "\n",
      "See the caveats in the documentation: https://pandas.pydata.org/pandas-docs/stable/user_guide/indexing.html#returning-a-view-versus-a-copy\n",
      "  arachide[\"indice\"] =x\n"
     ]
    }
   ],
   "source": [
    "arachide[\"indice\"] =x"
   ]
  },
  {
   "cell_type": "code",
   "execution_count": 25,
   "metadata": {},
   "outputs": [
    {
     "data": {
      "text/html": [
       "<div>\n",
       "<style scoped>\n",
       "    .dataframe tbody tr th:only-of-type {\n",
       "        vertical-align: middle;\n",
       "    }\n",
       "\n",
       "    .dataframe tbody tr th {\n",
       "        vertical-align: top;\n",
       "    }\n",
       "\n",
       "    .dataframe thead th {\n",
       "        text-align: right;\n",
       "    }\n",
       "</style>\n",
       "<table border=\"1\" class=\"dataframe\">\n",
       "  <thead>\n",
       "    <tr style=\"text-align: right;\">\n",
       "      <th></th>\n",
       "      <th>ID</th>\n",
       "      <th>zone</th>\n",
       "      <th>commune</th>\n",
       "      <th>comcode</th>\n",
       "      <th>cropname</th>\n",
       "      <th>cprod</th>\n",
       "      <th>cqsold</th>\n",
       "      <th>cpg</th>\n",
       "      <th>cgift</th>\n",
       "      <th>cland</th>\n",
       "      <th>...</th>\n",
       "      <th>sum_area</th>\n",
       "      <th>rendement_spec</th>\n",
       "      <th>autcons</th>\n",
       "      <th>autcons_spec</th>\n",
       "      <th>taux_autocons</th>\n",
       "      <th>sum_sup</th>\n",
       "      <th>part_sup</th>\n",
       "      <th>rendement</th>\n",
       "      <th>autocons</th>\n",
       "      <th>indice</th>\n",
       "    </tr>\n",
       "  </thead>\n",
       "  <tbody>\n",
       "    <tr>\n",
       "      <th>30</th>\n",
       "      <td>150</td>\n",
       "      <td>Diourbel-Fatick</td>\n",
       "      <td>Diouroup</td>\n",
       "      <td>4</td>\n",
       "      <td>Arachides</td>\n",
       "      <td>100.0</td>\n",
       "      <td>0</td>\n",
       "      <td>300.0</td>\n",
       "      <td>0</td>\n",
       "      <td>2.0</td>\n",
       "      <td>...</td>\n",
       "      <td>1361.851</td>\n",
       "      <td>578.039</td>\n",
       "      <td>100.0</td>\n",
       "      <td>269852.0</td>\n",
       "      <td>34.27985</td>\n",
       "      <td>3034.0105</td>\n",
       "      <td>44.886166</td>\n",
       "      <td>50.0</td>\n",
       "      <td>100.0</td>\n",
       "      <td>0.999639</td>\n",
       "    </tr>\n",
       "    <tr>\n",
       "      <th>31</th>\n",
       "      <td>235</td>\n",
       "      <td>Diourbel-Fatick</td>\n",
       "      <td>Diouroup</td>\n",
       "      <td>4</td>\n",
       "      <td>Arachides</td>\n",
       "      <td>150.0</td>\n",
       "      <td>0</td>\n",
       "      <td>275.0</td>\n",
       "      <td>0</td>\n",
       "      <td>2.0</td>\n",
       "      <td>...</td>\n",
       "      <td>1361.851</td>\n",
       "      <td>578.039</td>\n",
       "      <td>150.0</td>\n",
       "      <td>269852.0</td>\n",
       "      <td>34.27985</td>\n",
       "      <td>3034.0105</td>\n",
       "      <td>44.886166</td>\n",
       "      <td>75.0</td>\n",
       "      <td>150.0</td>\n",
       "      <td>0.999639</td>\n",
       "    </tr>\n",
       "    <tr>\n",
       "      <th>32</th>\n",
       "      <td>147</td>\n",
       "      <td>Diourbel-Fatick</td>\n",
       "      <td>Diouroup</td>\n",
       "      <td>4</td>\n",
       "      <td>Arachides</td>\n",
       "      <td>50.0</td>\n",
       "      <td>0</td>\n",
       "      <td>275.0</td>\n",
       "      <td>0</td>\n",
       "      <td>1.0</td>\n",
       "      <td>...</td>\n",
       "      <td>1361.851</td>\n",
       "      <td>578.039</td>\n",
       "      <td>50.0</td>\n",
       "      <td>269852.0</td>\n",
       "      <td>34.27985</td>\n",
       "      <td>3034.0105</td>\n",
       "      <td>44.886166</td>\n",
       "      <td>50.0</td>\n",
       "      <td>50.0</td>\n",
       "      <td>0.999639</td>\n",
       "    </tr>\n",
       "    <tr>\n",
       "      <th>33</th>\n",
       "      <td>236</td>\n",
       "      <td>Diourbel-Fatick</td>\n",
       "      <td>Diouroup</td>\n",
       "      <td>4</td>\n",
       "      <td>Arachides</td>\n",
       "      <td>0.0</td>\n",
       "      <td>0</td>\n",
       "      <td>300.0</td>\n",
       "      <td>0</td>\n",
       "      <td>1.0</td>\n",
       "      <td>...</td>\n",
       "      <td>1361.851</td>\n",
       "      <td>578.039</td>\n",
       "      <td>0.0</td>\n",
       "      <td>269852.0</td>\n",
       "      <td>34.27985</td>\n",
       "      <td>3034.0105</td>\n",
       "      <td>44.886166</td>\n",
       "      <td>0.0</td>\n",
       "      <td>0.0</td>\n",
       "      <td>0.999639</td>\n",
       "    </tr>\n",
       "    <tr>\n",
       "      <th>34</th>\n",
       "      <td>312</td>\n",
       "      <td>Diourbel-Fatick</td>\n",
       "      <td>Diouroup</td>\n",
       "      <td>4</td>\n",
       "      <td>Arachides</td>\n",
       "      <td>600.0</td>\n",
       "      <td>400</td>\n",
       "      <td>250.0</td>\n",
       "      <td>50</td>\n",
       "      <td>1.0</td>\n",
       "      <td>...</td>\n",
       "      <td>1361.851</td>\n",
       "      <td>578.039</td>\n",
       "      <td>150.0</td>\n",
       "      <td>269852.0</td>\n",
       "      <td>34.27985</td>\n",
       "      <td>3034.0105</td>\n",
       "      <td>44.886166</td>\n",
       "      <td>600.0</td>\n",
       "      <td>150.0</td>\n",
       "      <td>0.999639</td>\n",
       "    </tr>\n",
       "  </tbody>\n",
       "</table>\n",
       "<p>5 rows × 39 columns</p>\n",
       "</div>"
      ],
      "text/plain": [
       "     ID             zone   commune  comcode   cropname  cprod  cqsold    cpg  \\\n",
       "30  150  Diourbel-Fatick  Diouroup        4  Arachides  100.0       0  300.0   \n",
       "31  235  Diourbel-Fatick  Diouroup        4  Arachides  150.0       0  275.0   \n",
       "32  147  Diourbel-Fatick  Diouroup        4  Arachides   50.0       0  275.0   \n",
       "33  236  Diourbel-Fatick  Diouroup        4  Arachides    0.0       0  300.0   \n",
       "34  312  Diourbel-Fatick  Diouroup        4  Arachides  600.0     400  250.0   \n",
       "\n",
       "    cgift  cland  ...  sum_area  rendement_spec  autcons  autcons_spec  \\\n",
       "30      0    2.0  ...  1361.851         578.039    100.0      269852.0   \n",
       "31      0    2.0  ...  1361.851         578.039    150.0      269852.0   \n",
       "32      0    1.0  ...  1361.851         578.039     50.0      269852.0   \n",
       "33      0    1.0  ...  1361.851         578.039      0.0      269852.0   \n",
       "34     50    1.0  ...  1361.851         578.039    150.0      269852.0   \n",
       "\n",
       "    taux_autocons    sum_sup   part_sup  rendement  autocons    indice  \n",
       "30       34.27985  3034.0105  44.886166       50.0     100.0  0.999639  \n",
       "31       34.27985  3034.0105  44.886166       75.0     150.0  0.999639  \n",
       "32       34.27985  3034.0105  44.886166       50.0      50.0  0.999639  \n",
       "33       34.27985  3034.0105  44.886166        0.0       0.0  0.999639  \n",
       "34       34.27985  3034.0105  44.886166      600.0     150.0  0.999639  \n",
       "\n",
       "[5 rows x 39 columns]"
      ]
     },
     "execution_count": 25,
     "metadata": {},
     "output_type": "execute_result"
    }
   ],
   "source": [
    "arachide.head()"
   ]
  },
  {
   "cell_type": "code",
   "execution_count": 26,
   "metadata": {
    "executionInfo": {
     "elapsed": 13,
     "status": "ok",
     "timestamp": 1745085649463,
     "user": {
      "displayName": "Leslye Nkwa",
      "userId": "08123426273878723675"
     },
     "user_tz": 0
    },
    "id": "Dui7HgUU_6P4"
   },
   "outputs": [
    {
     "name": "stdout",
     "output_type": "stream",
     "text": [
      "                            OLS Regression Results                            \n",
      "==============================================================================\n",
      "Dep. Variable:              rendement   R-squared:                       0.028\n",
      "Model:                            OLS   Adj. R-squared:                  0.018\n",
      "Method:                 Least Squares   F-statistic:                     2.936\n",
      "Date:                Fri, 25 Apr 2025   Prob (F-statistic):             0.0205\n",
      "Time:                        01:03:42   Log-Likelihood:                -3369.0\n",
      "No. Observations:                 419   AIC:                             6748.\n",
      "Df Residuals:                     414   BIC:                             6768.\n",
      "Df Model:                           4                                         \n",
      "Covariance Type:            nonrobust                                         \n",
      "=================================================================================\n",
      "                    coef    std err          t      P>|t|      [0.025      0.975]\n",
      "---------------------------------------------------------------------------------\n",
      "if_extworkers   105.4144    113.438      0.929      0.353    -117.571     328.400\n",
      "seedsexp         -0.0003      0.000     -1.073      0.284      -0.001       0.000\n",
      "fertexp           0.0006      0.001      0.956      0.340      -0.001       0.002\n",
      "cpg              -0.9079      0.311     -2.921      0.004      -1.519      -0.297\n",
      "indice          863.0295    102.378      8.430      0.000     661.785    1064.274\n",
      "==============================================================================\n",
      "Omnibus:                      646.237   Durbin-Watson:                   2.001\n",
      "Prob(Omnibus):                  0.000   Jarque-Bera (JB):           159239.188\n",
      "Skew:                           8.356   Prob(JB):                         0.00\n",
      "Kurtosis:                      97.031   Cond. No.                     4.98e+05\n",
      "==============================================================================\n",
      "\n",
      "Notes:\n",
      "[1] Standard Errors assume that the covariance matrix of the errors is correctly specified.\n",
      "[2] The condition number is large, 4.98e+05. This might indicate that there are\n",
      "strong multicollinearity or other numerical problems.\n"
     ]
    }
   ],
   "source": [
    "\n",
    "import statsmodels.api as sm\n",
    "\n",
    "# Variables explicatives\n",
    "X = arachide[['if_extworkers', 'seedsexp', 'fertexp', 'cpg', 'indice']]\n",
    "\n",
    "# Variable dépendante\n",
    "y = arachide['rendement']\n",
    "\n",
    "# Ajout de la constante\n",
    "X = sm.add_constant(X)\n",
    "\n",
    "# Modèle de régression linéaire\n",
    "model = sm.OLS(y, X).fit()\n",
    "\n",
    "# Résultats\n",
    "print(model.summary())\n",
    "\n"
   ]
  }
 ],
 "metadata": {
  "colab": {
   "authorship_tag": "ABX9TyP/kBvZaGoxfoDbdXzyhMHB",
   "collapsed_sections": [
    "KzDfHLOo5SpC",
    "yRL_YMUPB8uw"
   ],
   "provenance": []
  },
  "kernelspec": {
   "display_name": "Python 3",
   "language": "python",
   "name": "python3"
  },
  "language_info": {
   "codemirror_mode": {
    "name": "ipython",
    "version": 3
   },
   "file_extension": ".py",
   "mimetype": "text/x-python",
   "name": "python",
   "nbconvert_exporter": "python",
   "pygments_lexer": "ipython3",
   "version": "3.11.9"
  },
  "widgets": {
   "application/vnd.jupyter.widget-state+json": {
    "2cfc149618af4418819650085534f8d3": {
     "model_module": "@jupyter-widgets/controls",
     "model_module_version": "1.5.0",
     "model_name": "DescriptionStyleModel",
     "state": {
      "_model_module": "@jupyter-widgets/controls",
      "_model_module_version": "1.5.0",
      "_model_name": "DescriptionStyleModel",
      "_view_count": null,
      "_view_module": "@jupyter-widgets/base",
      "_view_module_version": "1.2.0",
      "_view_name": "StyleView",
      "description_width": ""
     }
    },
    "2f1ffa9721934189a93d229562a7b065": {
     "model_module": "@jupyter-widgets/base",
     "model_module_version": "1.2.0",
     "model_name": "LayoutModel",
     "state": {
      "_model_module": "@jupyter-widgets/base",
      "_model_module_version": "1.2.0",
      "_model_name": "LayoutModel",
      "_view_count": null,
      "_view_module": "@jupyter-widgets/base",
      "_view_module_version": "1.2.0",
      "_view_name": "LayoutView",
      "align_content": null,
      "align_items": null,
      "align_self": null,
      "border": null,
      "bottom": null,
      "display": null,
      "flex": null,
      "flex_flow": null,
      "grid_area": null,
      "grid_auto_columns": null,
      "grid_auto_flow": null,
      "grid_auto_rows": null,
      "grid_column": null,
      "grid_gap": null,
      "grid_row": null,
      "grid_template_areas": null,
      "grid_template_columns": null,
      "grid_template_rows": null,
      "height": null,
      "justify_content": null,
      "justify_items": null,
      "left": null,
      "margin": null,
      "max_height": null,
      "max_width": null,
      "min_height": null,
      "min_width": null,
      "object_fit": null,
      "object_position": null,
      "order": null,
      "overflow": null,
      "overflow_x": null,
      "overflow_y": null,
      "padding": null,
      "right": null,
      "top": null,
      "visibility": null,
      "width": null
     }
    },
    "77fcb74ab6604feaa568e3e03fad57e5": {
     "model_module": "@jupyter-widgets/controls",
     "model_module_version": "1.5.0",
     "model_name": "HTMLModel",
     "state": {
      "_dom_classes": [],
      "_model_module": "@jupyter-widgets/controls",
      "_model_module_version": "1.5.0",
      "_model_name": "HTMLModel",
      "_view_count": null,
      "_view_module": "@jupyter-widgets/controls",
      "_view_module_version": "1.5.0",
      "_view_name": "HTMLView",
      "description": "",
      "description_tooltip": null,
      "layout": "IPY_MODEL_8ef62602cda3433987d23a07f994b267",
      "placeholder": "​",
      "style": "IPY_MODEL_2cfc149618af4418819650085534f8d3",
      "value": "Summarize dataset:  18%"
     }
    },
    "895cf718070b4e339ed4cc6482b28d5a": {
     "model_module": "@jupyter-widgets/controls",
     "model_module_version": "1.5.0",
     "model_name": "HBoxModel",
     "state": {
      "_dom_classes": [],
      "_model_module": "@jupyter-widgets/controls",
      "_model_module_version": "1.5.0",
      "_model_name": "HBoxModel",
      "_view_count": null,
      "_view_module": "@jupyter-widgets/controls",
      "_view_module_version": "1.5.0",
      "_view_name": "HBoxView",
      "box_style": "",
      "children": [
       "IPY_MODEL_77fcb74ab6604feaa568e3e03fad57e5",
       "IPY_MODEL_f3aedbd170fc4a7e99910963d418ff7b",
       "IPY_MODEL_a9aaabb6ad6a4e6690b215970b47dd4c"
      ],
      "layout": "IPY_MODEL_f7e16e3cbf574c30b87f587d29f85c5f"
     }
    },
    "8ef62602cda3433987d23a07f994b267": {
     "model_module": "@jupyter-widgets/base",
     "model_module_version": "1.2.0",
     "model_name": "LayoutModel",
     "state": {
      "_model_module": "@jupyter-widgets/base",
      "_model_module_version": "1.2.0",
      "_model_name": "LayoutModel",
      "_view_count": null,
      "_view_module": "@jupyter-widgets/base",
      "_view_module_version": "1.2.0",
      "_view_name": "LayoutView",
      "align_content": null,
      "align_items": null,
      "align_self": null,
      "border": null,
      "bottom": null,
      "display": null,
      "flex": null,
      "flex_flow": null,
      "grid_area": null,
      "grid_auto_columns": null,
      "grid_auto_flow": null,
      "grid_auto_rows": null,
      "grid_column": null,
      "grid_gap": null,
      "grid_row": null,
      "grid_template_areas": null,
      "grid_template_columns": null,
      "grid_template_rows": null,
      "height": null,
      "justify_content": null,
      "justify_items": null,
      "left": null,
      "margin": null,
      "max_height": null,
      "max_width": null,
      "min_height": null,
      "min_width": null,
      "object_fit": null,
      "object_position": null,
      "order": null,
      "overflow": null,
      "overflow_x": null,
      "overflow_y": null,
      "padding": null,
      "right": null,
      "top": null,
      "visibility": null,
      "width": null
     }
    },
    "a9aaabb6ad6a4e6690b215970b47dd4c": {
     "model_module": "@jupyter-widgets/controls",
     "model_module_version": "1.5.0",
     "model_name": "HTMLModel",
     "state": {
      "_dom_classes": [],
      "_model_module": "@jupyter-widgets/controls",
      "_model_module_version": "1.5.0",
      "_model_name": "HTMLModel",
      "_view_count": null,
      "_view_module": "@jupyter-widgets/controls",
      "_view_module_version": "1.5.0",
      "_view_name": "HTMLView",
      "description": "",
      "description_tooltip": null,
      "layout": "IPY_MODEL_2f1ffa9721934189a93d229562a7b065",
      "placeholder": "​",
      "style": "IPY_MODEL_d4df791c6a5d4220bb36f46aedf838e8",
      "value": " 5072/28962 [15:27&lt;2:46:03,  2.40it/s, scatter V263, D5]"
     }
    },
    "d4df791c6a5d4220bb36f46aedf838e8": {
     "model_module": "@jupyter-widgets/controls",
     "model_module_version": "1.5.0",
     "model_name": "DescriptionStyleModel",
     "state": {
      "_model_module": "@jupyter-widgets/controls",
      "_model_module_version": "1.5.0",
      "_model_name": "DescriptionStyleModel",
      "_view_count": null,
      "_view_module": "@jupyter-widgets/base",
      "_view_module_version": "1.2.0",
      "_view_name": "StyleView",
      "description_width": ""
     }
    },
    "d683cf5886bd49139fa2f2b4e6ffcdce": {
     "model_module": "@jupyter-widgets/base",
     "model_module_version": "1.2.0",
     "model_name": "LayoutModel",
     "state": {
      "_model_module": "@jupyter-widgets/base",
      "_model_module_version": "1.2.0",
      "_model_name": "LayoutModel",
      "_view_count": null,
      "_view_module": "@jupyter-widgets/base",
      "_view_module_version": "1.2.0",
      "_view_name": "LayoutView",
      "align_content": null,
      "align_items": null,
      "align_self": null,
      "border": null,
      "bottom": null,
      "display": null,
      "flex": null,
      "flex_flow": null,
      "grid_area": null,
      "grid_auto_columns": null,
      "grid_auto_flow": null,
      "grid_auto_rows": null,
      "grid_column": null,
      "grid_gap": null,
      "grid_row": null,
      "grid_template_areas": null,
      "grid_template_columns": null,
      "grid_template_rows": null,
      "height": null,
      "justify_content": null,
      "justify_items": null,
      "left": null,
      "margin": null,
      "max_height": null,
      "max_width": null,
      "min_height": null,
      "min_width": null,
      "object_fit": null,
      "object_position": null,
      "order": null,
      "overflow": null,
      "overflow_x": null,
      "overflow_y": null,
      "padding": null,
      "right": null,
      "top": null,
      "visibility": null,
      "width": null
     }
    },
    "d714b9fa9cf94cb08f8b059919622e36": {
     "model_module": "@jupyter-widgets/controls",
     "model_module_version": "1.5.0",
     "model_name": "ProgressStyleModel",
     "state": {
      "_model_module": "@jupyter-widgets/controls",
      "_model_module_version": "1.5.0",
      "_model_name": "ProgressStyleModel",
      "_view_count": null,
      "_view_module": "@jupyter-widgets/base",
      "_view_module_version": "1.2.0",
      "_view_name": "StyleView",
      "bar_color": null,
      "description_width": ""
     }
    },
    "f3aedbd170fc4a7e99910963d418ff7b": {
     "model_module": "@jupyter-widgets/controls",
     "model_module_version": "1.5.0",
     "model_name": "FloatProgressModel",
     "state": {
      "_dom_classes": [],
      "_model_module": "@jupyter-widgets/controls",
      "_model_module_version": "1.5.0",
      "_model_name": "FloatProgressModel",
      "_view_count": null,
      "_view_module": "@jupyter-widgets/controls",
      "_view_module_version": "1.5.0",
      "_view_name": "ProgressView",
      "bar_style": "",
      "description": "",
      "description_tooltip": null,
      "layout": "IPY_MODEL_d683cf5886bd49139fa2f2b4e6ffcdce",
      "max": 5,
      "min": 0,
      "orientation": "horizontal",
      "style": "IPY_MODEL_d714b9fa9cf94cb08f8b059919622e36",
      "value": 5
     }
    },
    "f7e16e3cbf574c30b87f587d29f85c5f": {
     "model_module": "@jupyter-widgets/base",
     "model_module_version": "1.2.0",
     "model_name": "LayoutModel",
     "state": {
      "_model_module": "@jupyter-widgets/base",
      "_model_module_version": "1.2.0",
      "_model_name": "LayoutModel",
      "_view_count": null,
      "_view_module": "@jupyter-widgets/base",
      "_view_module_version": "1.2.0",
      "_view_name": "LayoutView",
      "align_content": null,
      "align_items": null,
      "align_self": null,
      "border": null,
      "bottom": null,
      "display": null,
      "flex": null,
      "flex_flow": null,
      "grid_area": null,
      "grid_auto_columns": null,
      "grid_auto_flow": null,
      "grid_auto_rows": null,
      "grid_column": null,
      "grid_gap": null,
      "grid_row": null,
      "grid_template_areas": null,
      "grid_template_columns": null,
      "grid_template_rows": null,
      "height": null,
      "justify_content": null,
      "justify_items": null,
      "left": null,
      "margin": null,
      "max_height": null,
      "max_width": null,
      "min_height": null,
      "min_width": null,
      "object_fit": null,
      "object_position": null,
      "order": null,
      "overflow": null,
      "overflow_x": null,
      "overflow_y": null,
      "padding": null,
      "right": null,
      "top": null,
      "visibility": null,
      "width": null
     }
    }
   }
  }
 },
 "nbformat": 4,
 "nbformat_minor": 4
}
